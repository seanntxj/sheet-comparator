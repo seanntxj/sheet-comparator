{
 "cells": [
  {
   "cell_type": "code",
   "execution_count": 1,
   "metadata": {},
   "outputs": [],
   "source": [
    "import pandas as pd"
   ]
  },
  {
   "cell_type": "code",
   "execution_count": null,
   "metadata": {},
   "outputs": [],
   "source": [
    "stats = pd.read_csv('P4-Demographic-Data.csv')"
   ]
  },
  {
   "cell_type": "code",
   "execution_count": null,
   "metadata": {},
   "outputs": [],
   "source": [
    "# stats.columns # Simpler look at columns\n",
    "stats.info()"
   ]
  },
  {
   "cell_type": "code",
   "execution_count": null,
   "metadata": {},
   "outputs": [],
   "source": [
    "stats.head(3)"
   ]
  },
  {
   "cell_type": "code",
   "execution_count": null,
   "metadata": {},
   "outputs": [],
   "source": [
    "stats.tail(3)"
   ]
  },
  {
   "cell_type": "code",
   "execution_count": null,
   "metadata": {},
   "outputs": [],
   "source": [
    "stats.describe().transpose() # see summary of items, transpose it to make it easier to see"
   ]
  },
  {
   "cell_type": "code",
   "execution_count": null,
   "metadata": {},
   "outputs": [],
   "source": [
    "stats = stats.rename(columns={'BirthRate': 'Birth_Rate'}) # Rename 1 column\n",
    "stats.columns = ['CountryName', 'CountryCode', 'BirthRate', 'InternetUsers', 'IncomeGroup']"
   ]
  },
  {
   "cell_type": "code",
   "execution_count": null,
   "metadata": {},
   "outputs": [],
   "source": [
    "stats[::-1] # reverse dataset (non modifying)\n",
    "stats[3:4] # get 3:4 rows\n",
    "stats[::20] # get every 20th row"
   ]
  },
  {
   "cell_type": "code",
   "execution_count": null,
   "metadata": {},
   "outputs": [],
   "source": [
    "stats[4:8][['BirthRate', 'CountryName']]"
   ]
  },
  {
   "cell_type": "code",
   "execution_count": null,
   "metadata": {},
   "outputs": [],
   "source": [
    "stats['BirthRateRounded'] = stats.BirthRate.round(0) # Adding new column"
   ]
  },
  {
   "cell_type": "code",
   "execution_count": null,
   "metadata": {},
   "outputs": [],
   "source": [
    "stats = stats.drop('BirthRateRounded', axis=1)"
   ]
  },
  {
   "cell_type": "code",
   "execution_count": null,
   "metadata": {},
   "outputs": [],
   "source": [
    "stats.head()"
   ]
  },
  {
   "cell_type": "code",
   "execution_count": null,
   "metadata": {},
   "outputs": [],
   "source": [
    "# Filter (What's inside is a list of true/false for each row)\n",
    "# use & instead of and, and attempts to compare singular value not list of value\n",
    "# needs brackets for each filter if not order of operations will be wrong\n",
    "stats[(stats.InternetUsers < 3) & (stats.IncomeGroup.str.lower() == 'lower middle income')] "
   ]
  },
  {
   "cell_type": "code",
   "execution_count": null,
   "metadata": {},
   "outputs": [],
   "source": [
    "stats['IncomeGroup'].unique()"
   ]
  },
  {
   "cell_type": "code",
   "execution_count": null,
   "metadata": {},
   "outputs": [],
   "source": [
    "stats.at[117, \"CountryCode\"] # at and iat, access specific cell. at is looking at label, iat is count."
   ]
  },
  {
   "cell_type": "code",
   "execution_count": 46,
   "metadata": {},
   "outputs": [],
   "source": [
    "kna1 = pd.read_excel('test_data/unmerged/Post KNA1.XLSX', dtype=str)\n",
    "adrc = pd.read_excel('test_data/unmerged/Post ADRC.XLSX', dtype=str)\n",
    "knb1 = pd.read_excel('test_data/unmerged/Post KNB1.XLSX', dtype=str)"
   ]
  },
  {
   "cell_type": "code",
   "execution_count": 27,
   "metadata": {},
   "outputs": [
    {
     "data": {
      "text/html": [
       "<div>\n",
       "<style scoped>\n",
       "    .dataframe tbody tr th:only-of-type {\n",
       "        vertical-align: middle;\n",
       "    }\n",
       "\n",
       "    .dataframe tbody tr th {\n",
       "        vertical-align: top;\n",
       "    }\n",
       "\n",
       "    .dataframe thead th {\n",
       "        text-align: right;\n",
       "    }\n",
       "</style>\n",
       "<table border=\"1\" class=\"dataframe\">\n",
       "  <thead>\n",
       "    <tr style=\"text-align: right;\">\n",
       "      <th></th>\n",
       "      <th>Customer</th>\n",
       "      <th>Country</th>\n",
       "      <th>Region</th>\n",
       "      <th>Address</th>\n",
       "      <th>Tax Number 1</th>\n",
       "      <th>Tax Number 2</th>\n",
       "      <th>Tax Number 3</th>\n",
       "      <th>Tax Number 4</th>\n",
       "      <th>Tax Number 5</th>\n",
       "    </tr>\n",
       "  </thead>\n",
       "  <tbody>\n",
       "    <tr>\n",
       "      <th>217</th>\n",
       "      <td>200048</td>\n",
       "      <td>NaN</td>\n",
       "      <td>NaN</td>\n",
       "      <td>23823</td>\n",
       "      <td>NaN</td>\n",
       "      <td>NaN</td>\n",
       "      <td>NaN</td>\n",
       "      <td>NaN</td>\n",
       "      <td>NaN</td>\n",
       "    </tr>\n",
       "    <tr>\n",
       "      <th>421</th>\n",
       "      <td>200663</td>\n",
       "      <td>NaN</td>\n",
       "      <td>NaN</td>\n",
       "      <td>27164</td>\n",
       "      <td>NaN</td>\n",
       "      <td>01.04.2015</td>\n",
       "      <td>NaN</td>\n",
       "      <td>NaN</td>\n",
       "      <td>BRN:NA</td>\n",
       "    </tr>\n",
       "  </tbody>\n",
       "</table>\n",
       "</div>"
      ],
      "text/plain": [
       "    Customer Country Region Address Tax Number 1 Tax Number 2 Tax Number 3  \\\n",
       "217   200048     NaN    NaN   23823          NaN          NaN          NaN   \n",
       "421   200663     NaN    NaN   27164          NaN   01.04.2015          NaN   \n",
       "\n",
       "    Tax Number 4 Tax Number 5  \n",
       "217          NaN          NaN  \n",
       "421          NaN       BRN:NA  "
      ]
     },
     "execution_count": 27,
     "metadata": {},
     "output_type": "execute_result"
    }
   ],
   "source": [
    "kna1[kna1['Country'].isnull()]"
   ]
  },
  {
   "cell_type": "code",
   "execution_count": 39,
   "metadata": {},
   "outputs": [
    {
     "name": "stdout",
     "output_type": "stream",
     "text": [
      "<class 'pandas.core.frame.DataFrame'>\n",
      "RangeIndex: 684 entries, 0 to 683\n",
      "Data columns (total 15 columns):\n",
      " #   Column          Non-Null Count  Dtype \n",
      "---  ------          --------------  ----- \n",
      " 0   Address number  684 non-null    object\n",
      " 1   Name            684 non-null    object\n",
      " 2   Name 2          294 non-null    object\n",
      " 3   Name 3          9 non-null      object\n",
      " 4   Name 4          3 non-null      object\n",
      " 5   City            681 non-null    object\n",
      " 6   Postal Code     674 non-null    object\n",
      " 7   Street          629 non-null    object\n",
      " 8   Street 2        0 non-null      object\n",
      " 9   Street 3        0 non-null      object\n",
      " 10  Street 4        386 non-null    object\n",
      " 11  Street 5        296 non-null    object\n",
      " 12  Country Key     682 non-null    object\n",
      " 13  Region          283 non-null    object\n",
      " 14  Search Term 2   0 non-null      object\n",
      "dtypes: object(15)\n",
      "memory usage: 80.3+ KB\n"
     ]
    }
   ],
   "source": [
    "adrc.info()"
   ]
  },
  {
   "cell_type": "code",
   "execution_count": 40,
   "metadata": {},
   "outputs": [
    {
     "name": "stdout",
     "output_type": "stream",
     "text": [
      "<class 'pandas.core.frame.DataFrame'>\n",
      "RangeIndex: 671 entries, 0 to 670\n",
      "Data columns (total 9 columns):\n",
      " #   Column        Non-Null Count  Dtype \n",
      "---  ------        --------------  ----- \n",
      " 0   Customer      671 non-null    object\n",
      " 1   Country       669 non-null    object\n",
      " 2   Region        282 non-null    object\n",
      " 3   Address       671 non-null    object\n",
      " 4   Tax Number 1  90 non-null     object\n",
      " 5   Tax Number 2  372 non-null    object\n",
      " 6   Tax Number 3  0 non-null      object\n",
      " 7   Tax Number 4  36 non-null     object\n",
      " 8   Tax Number 5  669 non-null    object\n",
      "dtypes: object(9)\n",
      "memory usage: 47.3+ KB\n"
     ]
    }
   ],
   "source": [
    "kna1.info()"
   ]
  },
  {
   "cell_type": "code",
   "execution_count": 94,
   "metadata": {},
   "outputs": [],
   "source": [
    "test = pd.merge(kna1, adrc, how='left', left_on='Address', right_on='Address number', suffixes=('', '_removeMe'))"
   ]
  },
  {
   "cell_type": "code",
   "execution_count": 103,
   "metadata": {},
   "outputs": [
    {
     "data": {
      "text/html": [
       "<div>\n",
       "<style scoped>\n",
       "    .dataframe tbody tr th:only-of-type {\n",
       "        vertical-align: middle;\n",
       "    }\n",
       "\n",
       "    .dataframe tbody tr th {\n",
       "        vertical-align: top;\n",
       "    }\n",
       "\n",
       "    .dataframe thead th {\n",
       "        text-align: right;\n",
       "    }\n",
       "</style>\n",
       "<table border=\"1\" class=\"dataframe\">\n",
       "  <thead>\n",
       "    <tr style=\"text-align: right;\">\n",
       "      <th></th>\n",
       "      <th>Customer</th>\n",
       "      <th>Country</th>\n",
       "      <th>Region</th>\n",
       "      <th>Address</th>\n",
       "      <th>Tax Number 1</th>\n",
       "      <th>Tax Number 2</th>\n",
       "      <th>Tax Number 3</th>\n",
       "      <th>Tax Number 4</th>\n",
       "      <th>Tax Number 5</th>\n",
       "    </tr>\n",
       "  </thead>\n",
       "  <tbody>\n",
       "    <tr>\n",
       "      <th>144</th>\n",
       "      <td>100573</td>\n",
       "      <td>SG</td>\n",
       "      <td>SG</td>\n",
       "      <td>28184</td>\n",
       "      <td>NaN</td>\n",
       "      <td>01.04.2015</td>\n",
       "      <td>NaN</td>\n",
       "      <td>NaN</td>\n",
       "      <td>BRN:NA</td>\n",
       "    </tr>\n",
       "  </tbody>\n",
       "</table>\n",
       "</div>"
      ],
      "text/plain": [
       "    Customer Country Region Address Tax Number 1 Tax Number 2 Tax Number 3  \\\n",
       "144   100573      SG     SG   28184          NaN   01.04.2015          NaN   \n",
       "\n",
       "    Tax Number 4 Tax Number 5  \n",
       "144          NaN       BRN:NA  "
      ]
     },
     "execution_count": 103,
     "metadata": {},
     "output_type": "execute_result"
    }
   ],
   "source": [
    "kna1[kna1['Address'] == '28184']"
   ]
  },
  {
   "cell_type": "code",
   "execution_count": 104,
   "metadata": {},
   "outputs": [
    {
     "data": {
      "text/html": [
       "<div>\n",
       "<style scoped>\n",
       "    .dataframe tbody tr th:only-of-type {\n",
       "        vertical-align: middle;\n",
       "    }\n",
       "\n",
       "    .dataframe tbody tr th {\n",
       "        vertical-align: top;\n",
       "    }\n",
       "\n",
       "    .dataframe thead th {\n",
       "        text-align: right;\n",
       "    }\n",
       "</style>\n",
       "<table border=\"1\" class=\"dataframe\">\n",
       "  <thead>\n",
       "    <tr style=\"text-align: right;\">\n",
       "      <th></th>\n",
       "      <th>Address number</th>\n",
       "      <th>Name</th>\n",
       "      <th>Name 2</th>\n",
       "      <th>Name 3</th>\n",
       "      <th>Name 4</th>\n",
       "      <th>City</th>\n",
       "      <th>Postal Code</th>\n",
       "      <th>Street</th>\n",
       "      <th>Street 2</th>\n",
       "      <th>Street 3</th>\n",
       "      <th>Street 4</th>\n",
       "      <th>Street 5</th>\n",
       "      <th>Country Key</th>\n",
       "      <th>Region</th>\n",
       "      <th>Search Term 2</th>\n",
       "    </tr>\n",
       "  </thead>\n",
       "  <tbody>\n",
       "    <tr>\n",
       "      <th>471</th>\n",
       "      <td>28184</td>\n",
       "      <td>HYPAC PACKAGING PTE LTD</td>\n",
       "      <td>NaN</td>\n",
       "      <td>NaN</td>\n",
       "      <td>NaN</td>\n",
       "      <td>SINGAPORE</td>\n",
       "      <td>118518</td>\n",
       "      <td>100 PASIR PANJANG ROAD</td>\n",
       "      <td>NaN</td>\n",
       "      <td>NaN</td>\n",
       "      <td>#08 - 07 100 PASIR PANJANG</td>\n",
       "      <td>NaN</td>\n",
       "      <td>SG</td>\n",
       "      <td>SG</td>\n",
       "      <td>NaN</td>\n",
       "    </tr>\n",
       "  </tbody>\n",
       "</table>\n",
       "</div>"
      ],
      "text/plain": [
       "    Address number                     Name Name 2 Name 3 Name 4       City  \\\n",
       "471          28184  HYPAC PACKAGING PTE LTD    NaN    NaN    NaN  SINGAPORE   \n",
       "\n",
       "    Postal Code                  Street Street 2 Street 3  \\\n",
       "471      118518  100 PASIR PANJANG ROAD      NaN      NaN   \n",
       "\n",
       "                       Street 4 Street 5 Country Key Region Search Term 2  \n",
       "471  #08 - 07 100 PASIR PANJANG      NaN          SG     SG           NaN  "
      ]
     },
     "execution_count": 104,
     "metadata": {},
     "output_type": "execute_result"
    }
   ],
   "source": [
    "adrc[adrc['Address number'] == '28184']"
   ]
  },
  {
   "cell_type": "code",
   "execution_count": 122,
   "metadata": {},
   "outputs": [],
   "source": [
    "def merge_dfs(df1, df2, df1_identifier_column, df2_identifier_column):\n",
    "    '''\n",
    "    Merge two Pandas Dataframes\n",
    "    Keep all rows from the first dataframe, only keep the first dataframe's copy of a column which appears in both dataframes.\n",
    "    If the identifier column of both dataframes are different, only the first dataframe's copy is kept.\n",
    "    '''\n",
    "    # Rename the identifier column of the second dataframe to be the same of the first. Avoids having both columns kept in the merged dataframe.\n",
    "    df2 = df2.rename(columns={df2_identifier_column: df1_identifier_column}) \n",
    "    # Left merge the two dataframes. Suffix the second dataframe's identifier column in case.\n",
    "    resulting_df = pd.merge(df1, df2, how='left', left_on=df1_identifier_column, right_on=df1_identifier_column, suffixes=('', '_removeMe')) \n",
    "    return resulting_df"
   ]
  },
  {
   "cell_type": "code",
   "execution_count": 123,
   "metadata": {},
   "outputs": [
    {
     "name": "stdout",
     "output_type": "stream",
     "text": [
      "<class 'pandas.core.frame.DataFrame'>\n",
      "RangeIndex: 671 entries, 0 to 670\n",
      "Data columns (total 23 columns):\n",
      " #   Column           Non-Null Count  Dtype \n",
      "---  ------           --------------  ----- \n",
      " 0   Customer         671 non-null    object\n",
      " 1   Country          669 non-null    object\n",
      " 2   Region           282 non-null    object\n",
      " 3   Address          671 non-null    object\n",
      " 4   Tax Number 1     90 non-null     object\n",
      " 5   Tax Number 2     372 non-null    object\n",
      " 6   Tax Number 3     0 non-null      object\n",
      " 7   Tax Number 4     36 non-null     object\n",
      " 8   Tax Number 5     669 non-null    object\n",
      " 9   Name             671 non-null    object\n",
      " 10  Name 2           294 non-null    object\n",
      " 11  Name 3           9 non-null      object\n",
      " 12  Name 4           3 non-null      object\n",
      " 13  City             668 non-null    object\n",
      " 14  Postal Code      668 non-null    object\n",
      " 15  Street           623 non-null    object\n",
      " 16  Street 2         0 non-null      object\n",
      " 17  Street 3         0 non-null      object\n",
      " 18  Street 4         381 non-null    object\n",
      " 19  Street 5         291 non-null    object\n",
      " 20  Country Key      669 non-null    object\n",
      " 21  Region_removeMe  282 non-null    object\n",
      " 22  Search Term 2    0 non-null      object\n",
      "dtypes: object(23)\n",
      "memory usage: 120.7+ KB\n"
     ]
    }
   ],
   "source": [
    "test = merge_dfs(kna1, adrc, 'Address', 'Address number')\n",
    "test.info()"
   ]
  },
  {
   "cell_type": "code",
   "execution_count": null,
   "metadata": {},
   "outputs": [],
   "source": []
  }
 ],
 "metadata": {
  "kernelspec": {
   "display_name": "venv",
   "language": "python",
   "name": "python3"
  },
  "language_info": {
   "codemirror_mode": {
    "name": "ipython",
    "version": 3
   },
   "file_extension": ".py",
   "mimetype": "text/x-python",
   "name": "python",
   "nbconvert_exporter": "python",
   "pygments_lexer": "ipython3",
   "version": "3.12.3"
  }
 },
 "nbformat": 4,
 "nbformat_minor": 2
}
